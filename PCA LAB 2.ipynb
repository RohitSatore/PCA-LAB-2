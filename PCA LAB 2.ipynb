{
 "cells": [
  {
   "cell_type": "code",
   "execution_count": 66,
   "id": "255a09d0",
   "metadata": {},
   "outputs": [],
   "source": [
    "import pandas as pd\n",
    "import numpy as np\n",
    "import statsmodels.api as sm\n",
    "import seaborn as sns\n",
    "import matplotlib.pyplot as plt\n",
    "import math"
   ]
  },
  {
   "cell_type": "code",
   "execution_count": 67,
   "id": "fe67ca25",
   "metadata": {},
   "outputs": [
    {
     "data": {
      "text/html": [
       "<div>\n",
       "<style scoped>\n",
       "    .dataframe tbody tr th:only-of-type {\n",
       "        vertical-align: middle;\n",
       "    }\n",
       "\n",
       "    .dataframe tbody tr th {\n",
       "        vertical-align: top;\n",
       "    }\n",
       "\n",
       "    .dataframe thead th {\n",
       "        text-align: right;\n",
       "    }\n",
       "</style>\n",
       "<table border=\"1\" class=\"dataframe\">\n",
       "  <thead>\n",
       "    <tr style=\"text-align: right;\">\n",
       "      <th></th>\n",
       "      <th>SR NO</th>\n",
       "      <th>PRN</th>\n",
       "      <th>NAME</th>\n",
       "      <th>CA1</th>\n",
       "      <th>CA2</th>\n",
       "      <th>MID SEM</th>\n",
       "      <th>Date</th>\n",
       "      <th>AGE</th>\n",
       "      <th>SEX</th>\n",
       "      <th>SLOPE</th>\n",
       "      <th>target</th>\n",
       "    </tr>\n",
       "  </thead>\n",
       "  <tbody>\n",
       "    <tr>\n",
       "      <th>0</th>\n",
       "      <td>1</td>\n",
       "      <td>2.030000e+12</td>\n",
       "      <td>Akshay Borhade</td>\n",
       "      <td>Absent</td>\n",
       "      <td>Absent</td>\n",
       "      <td>Present</td>\n",
       "      <td>Yes</td>\n",
       "      <td>12</td>\n",
       "      <td>1</td>\n",
       "      <td>0</td>\n",
       "      <td>1</td>\n",
       "    </tr>\n",
       "    <tr>\n",
       "      <th>1</th>\n",
       "      <td>2</td>\n",
       "      <td>2.030000e+12</td>\n",
       "      <td>Atharv Tavle</td>\n",
       "      <td>Present</td>\n",
       "      <td>Absent</td>\n",
       "      <td>Present</td>\n",
       "      <td>Yes</td>\n",
       "      <td>23</td>\n",
       "      <td>0</td>\n",
       "      <td>2</td>\n",
       "      <td>0</td>\n",
       "    </tr>\n",
       "    <tr>\n",
       "      <th>2</th>\n",
       "      <td>3</td>\n",
       "      <td>2.030000e+12</td>\n",
       "      <td>kaushal Kshirsagar</td>\n",
       "      <td>Absent</td>\n",
       "      <td>Absent</td>\n",
       "      <td>Present</td>\n",
       "      <td>No</td>\n",
       "      <td>34</td>\n",
       "      <td>0</td>\n",
       "      <td>0</td>\n",
       "      <td>122</td>\n",
       "    </tr>\n",
       "    <tr>\n",
       "      <th>3</th>\n",
       "      <td>4</td>\n",
       "      <td>2.030000e+12</td>\n",
       "      <td>Manas Patil</td>\n",
       "      <td>Absent</td>\n",
       "      <td>Absent</td>\n",
       "      <td>Absent</td>\n",
       "      <td>Yes</td>\n",
       "      <td>45</td>\n",
       "      <td>1</td>\n",
       "      <td>2</td>\n",
       "      <td>134</td>\n",
       "    </tr>\n",
       "    <tr>\n",
       "      <th>4</th>\n",
       "      <td>5</td>\n",
       "      <td>2.030000e+12</td>\n",
       "      <td>Raj Mahadik</td>\n",
       "      <td>Absent</td>\n",
       "      <td>Present</td>\n",
       "      <td>Present</td>\n",
       "      <td>Yes</td>\n",
       "      <td>22</td>\n",
       "      <td>1</td>\n",
       "      <td>2</td>\n",
       "      <td>1</td>\n",
       "    </tr>\n",
       "  </tbody>\n",
       "</table>\n",
       "</div>"
      ],
      "text/plain": [
       "   SR NO           PRN                NAME      CA1      CA2  MID SEM Date  \\\n",
       "0      1  2.030000e+12      Akshay Borhade   Absent   Absent  Present  Yes   \n",
       "1      2  2.030000e+12        Atharv Tavle  Present   Absent  Present  Yes   \n",
       "2      3  2.030000e+12  kaushal Kshirsagar   Absent   Absent  Present   No   \n",
       "3      4  2.030000e+12         Manas Patil   Absent   Absent   Absent  Yes   \n",
       "4      5  2.030000e+12         Raj Mahadik   Absent  Present  Present  Yes   \n",
       "\n",
       "   AGE  SEX  SLOPE  target  \n",
       "0   12    1      0       1  \n",
       "1   23    0      2       0  \n",
       "2   34    0      0     122  \n",
       "3   45    1      2     134  \n",
       "4   22    1      2       1  "
      ]
     },
     "execution_count": 67,
     "metadata": {},
     "output_type": "execute_result"
    }
   ],
   "source": [
    "df = pd.read_csv('C:\\\\Users\\\\SATORE ROHIT BALAJI\\\\Documents\\\\Machine Learning\\\\communication Skills.csv')\n",
    "df.head()"
   ]
  },
  {
   "cell_type": "code",
   "execution_count": 68,
   "id": "31d2b95e",
   "metadata": {},
   "outputs": [
    {
     "data": {
      "text/html": [
       "<div>\n",
       "<style scoped>\n",
       "    .dataframe tbody tr th:only-of-type {\n",
       "        vertical-align: middle;\n",
       "    }\n",
       "\n",
       "    .dataframe tbody tr th {\n",
       "        vertical-align: top;\n",
       "    }\n",
       "\n",
       "    .dataframe thead th {\n",
       "        text-align: right;\n",
       "    }\n",
       "</style>\n",
       "<table border=\"1\" class=\"dataframe\">\n",
       "  <thead>\n",
       "    <tr style=\"text-align: right;\">\n",
       "      <th></th>\n",
       "      <th>SR NO</th>\n",
       "      <th>PRN</th>\n",
       "      <th>AGE</th>\n",
       "      <th>SEX</th>\n",
       "      <th>SLOPE</th>\n",
       "      <th>target</th>\n",
       "    </tr>\n",
       "  </thead>\n",
       "  <tbody>\n",
       "    <tr>\n",
       "      <th>count</th>\n",
       "      <td>9.000000</td>\n",
       "      <td>9.000000e+00</td>\n",
       "      <td>9.000000</td>\n",
       "      <td>9.000000</td>\n",
       "      <td>9.000000</td>\n",
       "      <td>9.000000</td>\n",
       "    </tr>\n",
       "    <tr>\n",
       "      <th>mean</th>\n",
       "      <td>5.000000</td>\n",
       "      <td>2.030000e+12</td>\n",
       "      <td>27.888889</td>\n",
       "      <td>0.555556</td>\n",
       "      <td>1.111111</td>\n",
       "      <td>29.222222</td>\n",
       "    </tr>\n",
       "    <tr>\n",
       "      <th>std</th>\n",
       "      <td>2.738613</td>\n",
       "      <td>0.000000e+00</td>\n",
       "      <td>11.384688</td>\n",
       "      <td>0.527046</td>\n",
       "      <td>1.054093</td>\n",
       "      <td>56.084262</td>\n",
       "    </tr>\n",
       "    <tr>\n",
       "      <th>min</th>\n",
       "      <td>1.000000</td>\n",
       "      <td>2.030000e+12</td>\n",
       "      <td>12.000000</td>\n",
       "      <td>0.000000</td>\n",
       "      <td>0.000000</td>\n",
       "      <td>0.000000</td>\n",
       "    </tr>\n",
       "    <tr>\n",
       "      <th>25%</th>\n",
       "      <td>3.000000</td>\n",
       "      <td>2.030000e+12</td>\n",
       "      <td>20.000000</td>\n",
       "      <td>0.000000</td>\n",
       "      <td>0.000000</td>\n",
       "      <td>1.000000</td>\n",
       "    </tr>\n",
       "    <tr>\n",
       "      <th>50%</th>\n",
       "      <td>5.000000</td>\n",
       "      <td>2.030000e+12</td>\n",
       "      <td>23.000000</td>\n",
       "      <td>1.000000</td>\n",
       "      <td>2.000000</td>\n",
       "      <td>1.000000</td>\n",
       "    </tr>\n",
       "    <tr>\n",
       "      <th>75%</th>\n",
       "      <td>7.000000</td>\n",
       "      <td>2.030000e+12</td>\n",
       "      <td>34.000000</td>\n",
       "      <td>1.000000</td>\n",
       "      <td>2.000000</td>\n",
       "      <td>2.000000</td>\n",
       "    </tr>\n",
       "    <tr>\n",
       "      <th>max</th>\n",
       "      <td>9.000000</td>\n",
       "      <td>2.030000e+12</td>\n",
       "      <td>45.000000</td>\n",
       "      <td>1.000000</td>\n",
       "      <td>2.000000</td>\n",
       "      <td>134.000000</td>\n",
       "    </tr>\n",
       "  </tbody>\n",
       "</table>\n",
       "</div>"
      ],
      "text/plain": [
       "          SR NO           PRN        AGE       SEX     SLOPE      target\n",
       "count  9.000000  9.000000e+00   9.000000  9.000000  9.000000    9.000000\n",
       "mean   5.000000  2.030000e+12  27.888889  0.555556  1.111111   29.222222\n",
       "std    2.738613  0.000000e+00  11.384688  0.527046  1.054093   56.084262\n",
       "min    1.000000  2.030000e+12  12.000000  0.000000  0.000000    0.000000\n",
       "25%    3.000000  2.030000e+12  20.000000  0.000000  0.000000    1.000000\n",
       "50%    5.000000  2.030000e+12  23.000000  1.000000  2.000000    1.000000\n",
       "75%    7.000000  2.030000e+12  34.000000  1.000000  2.000000    2.000000\n",
       "max    9.000000  2.030000e+12  45.000000  1.000000  2.000000  134.000000"
      ]
     },
     "execution_count": 68,
     "metadata": {},
     "output_type": "execute_result"
    }
   ],
   "source": [
    "df.describe()"
   ]
  },
  {
   "cell_type": "code",
   "execution_count": 69,
   "id": "cf17ee82",
   "metadata": {},
   "outputs": [],
   "source": [
    "endog = df['target'].head(4)"
   ]
  },
  {
   "cell_type": "code",
   "execution_count": 70,
   "id": "ba0d0f1c",
   "metadata": {},
   "outputs": [],
   "source": [
    "exog =  df[['SLOPE','SEX','AGE']].head(4)"
   ]
  },
  {
   "cell_type": "code",
   "execution_count": 71,
   "id": "72103d13",
   "metadata": {},
   "outputs": [
    {
     "name": "stdout",
     "output_type": "stream",
     "text": [
      "   SLOPE  SEX  AGE\n",
      "0      0    1   12\n",
      "1      2    0   23\n",
      "2      0    0   34\n",
      "3      2    1   45\n"
     ]
    }
   ],
   "source": [
    "print(exog)"
   ]
  },
  {
   "cell_type": "code",
   "execution_count": 72,
   "id": "f76d0a4c",
   "metadata": {},
   "outputs": [],
   "source": [
    "X=exog.to_numpy()"
   ]
  },
  {
   "cell_type": "code",
   "execution_count": 73,
   "id": "06e6e091",
   "metadata": {},
   "outputs": [],
   "source": [
    "Y=endog.to_numpy()"
   ]
  },
  {
   "cell_type": "code",
   "execution_count": 74,
   "id": "2fda3ccc",
   "metadata": {},
   "outputs": [
    {
     "name": "stdout",
     "output_type": "stream",
     "text": [
      "[[ 0  1 12]\n",
      " [ 2  0 23]\n",
      " [ 0  0 34]\n",
      " [ 2  1 45]]\n"
     ]
    }
   ],
   "source": [
    "print(X)"
   ]
  },
  {
   "cell_type": "code",
   "execution_count": 75,
   "id": "607b2239",
   "metadata": {},
   "outputs": [],
   "source": [
    "from numpy import array\n",
    "from numpy import mean"
   ]
  },
  {
   "cell_type": "code",
   "execution_count": 76,
   "id": "275fd3f9",
   "metadata": {},
   "outputs": [],
   "source": [
    "from numpy import cov\n",
    "from numpy.linalg import eig"
   ]
  },
  {
   "cell_type": "code",
   "execution_count": 77,
   "id": "95d47303",
   "metadata": {},
   "outputs": [],
   "source": [
    "M = mean(X.T, axis=1)"
   ]
  },
  {
   "cell_type": "code",
   "execution_count": 78,
   "id": "62f47c37",
   "metadata": {},
   "outputs": [
    {
     "name": "stdout",
     "output_type": "stream",
     "text": [
      "[ 1.   0.5 28.5]\n"
     ]
    }
   ],
   "source": [
    "print(M)"
   ]
  },
  {
   "cell_type": "code",
   "execution_count": 79,
   "id": "b6d85077",
   "metadata": {},
   "outputs": [
    {
     "name": "stdout",
     "output_type": "stream",
     "text": [
      "[[ -1.    0.5 -16.5]\n",
      " [  1.   -0.5  -5.5]\n",
      " [ -1.   -0.5   5.5]\n",
      " [  1.    0.5  16.5]]\n"
     ]
    }
   ],
   "source": [
    "C= X-M\n",
    "print(C)"
   ]
  },
  {
   "cell_type": "code",
   "execution_count": 80,
   "id": "f438fcb5",
   "metadata": {},
   "outputs": [],
   "source": [
    "V = cov(C.T)"
   ]
  },
  {
   "cell_type": "code",
   "execution_count": 81,
   "id": "13a4bc60",
   "metadata": {},
   "outputs": [
    {
     "name": "stdout",
     "output_type": "stream",
     "text": [
      "[[  1.33333333   0.           7.33333333]\n",
      " [  0.           0.33333333   0.        ]\n",
      " [  7.33333333   0.         201.66666667]]\n"
     ]
    }
   ],
   "source": [
    "print(V)"
   ]
  },
  {
   "cell_type": "code",
   "execution_count": 82,
   "id": "d9790f2a",
   "metadata": {},
   "outputs": [],
   "source": [
    "values, vectors = eig(V)"
   ]
  },
  {
   "cell_type": "code",
   "execution_count": 83,
   "id": "d17925cf",
   "metadata": {},
   "outputs": [
    {
     "name": "stdout",
     "output_type": "stream",
     "text": [
      "[  1.06525059 201.93474941   0.33333333]\n"
     ]
    }
   ],
   "source": [
    "print(values)"
   ]
  },
  {
   "cell_type": "code",
   "execution_count": 84,
   "id": "f761c4d7",
   "metadata": {},
   "outputs": [],
   "source": [
    "P = vectors.T.dot(C.T)"
   ]
  },
  {
   "cell_type": "code",
   "execution_count": 85,
   "id": "22234a2a",
   "metadata": {},
   "outputs": [
    {
     "name": "stdout",
     "output_type": "stream",
     "text": [
      "[[  0.39654894  16.52551811   0.5       ]\n",
      " [ -1.20026031   5.45979626  -0.5       ]\n",
      " [  1.20026031  -5.45979626  -0.5       ]\n",
      " [ -0.39654894 -16.52551811   0.5       ]]\n"
     ]
    }
   ],
   "source": [
    "print(P.T)"
   ]
  },
  {
   "cell_type": "code",
   "execution_count": 86,
   "id": "86436685",
   "metadata": {},
   "outputs": [],
   "source": [
    "from sklearn.decomposition import PCA"
   ]
  },
  {
   "cell_type": "code",
   "execution_count": 87,
   "id": "1d7ca13a",
   "metadata": {},
   "outputs": [],
   "source": [
    "pca = PCA(n_components=1)"
   ]
  },
  {
   "cell_type": "code",
   "execution_count": 88,
   "id": "2bc523b9",
   "metadata": {},
   "outputs": [],
   "source": [
    "principalComponents = pca.fit_transform(X)"
   ]
  },
  {
   "cell_type": "code",
   "execution_count": 89,
   "id": "e3324a5f",
   "metadata": {},
   "outputs": [],
   "source": [
    "principalDf = pd.DataFrame(data = principalComponents,columns = ['principal component 1'])"
   ]
  },
  {
   "cell_type": "code",
   "execution_count": 90,
   "id": "e36f2cc8",
   "metadata": {},
   "outputs": [],
   "source": [
    "exog1 = sm.add_constant(principalDf[['principal component 1']])"
   ]
  },
  {
   "cell_type": "code",
   "execution_count": 91,
   "id": "b8784ca4",
   "metadata": {},
   "outputs": [
    {
     "name": "stdout",
     "output_type": "stream",
     "text": [
      "   const  principal component 1\n",
      "0    1.0             -16.525518\n",
      "1    1.0              -5.459796\n",
      "2    1.0               5.459796\n",
      "3    1.0              16.525518\n"
     ]
    }
   ],
   "source": [
    "print(exog1)"
   ]
  },
  {
   "cell_type": "code",
   "execution_count": 92,
   "id": "da379da7",
   "metadata": {},
   "outputs": [],
   "source": [
    "from sklearn import linear_model"
   ]
  },
  {
   "cell_type": "code",
   "execution_count": 93,
   "id": "8e720287",
   "metadata": {},
   "outputs": [],
   "source": [
    "lm = linear_model.LinearRegression()"
   ]
  },
  {
   "cell_type": "code",
   "execution_count": 94,
   "id": "e7c2a8c9",
   "metadata": {},
   "outputs": [],
   "source": [
    "model = lm.fit(exog1,endog)"
   ]
  },
  {
   "cell_type": "code",
   "execution_count": 95,
   "id": "d4c0bd5c",
   "metadata": {},
   "outputs": [],
   "source": [
    "model = lm.fit(exog1,endog)"
   ]
  },
  {
   "cell_type": "code",
   "execution_count": 96,
   "id": "cbfafbb5",
   "metadata": {},
   "outputs": [
    {
     "data": {
      "text/plain": [
       "array([0.        , 4.72758166])"
      ]
     },
     "execution_count": 96,
     "metadata": {},
     "output_type": "execute_result"
    }
   ],
   "source": [
    "lm.coef_"
   ]
  },
  {
   "cell_type": "code",
   "execution_count": 97,
   "id": "c56fe112",
   "metadata": {},
   "outputs": [
    {
     "data": {
      "text/plain": [
       "64.25"
      ]
     },
     "execution_count": 97,
     "metadata": {},
     "output_type": "execute_result"
    }
   ],
   "source": [
    "lm.intercept_"
   ]
  },
  {
   "cell_type": "code",
   "execution_count": 98,
   "id": "3ca60092",
   "metadata": {},
   "outputs": [],
   "source": [
    "def RSE(y_true, y_predicted):\n",
    "    \n",
    "    y_true = np.array(y_true)\n",
    "    y_predicted = np.array(y_predicted)\n",
    "    RSS = np.sum(np.square(y_true - y_predicted))\n",
    "    rse = math.sqrt(RSS / (len(y_true) - 2))\n",
    "    return rse"
   ]
  },
  {
   "cell_type": "code",
   "execution_count": 99,
   "id": "aa82ada4",
   "metadata": {},
   "outputs": [],
   "source": [
    "ypred =lm.predict(exog1)"
   ]
  },
  {
   "cell_type": "code",
   "execution_count": 100,
   "id": "b8001f49",
   "metadata": {},
   "outputs": [
    {
     "name": "stdout",
     "output_type": "stream",
     "text": [
      "37.343057482331325\n"
     ]
    }
   ],
   "source": [
    "re = RSE(endog,ypred)\n",
    "print(re)"
   ]
  },
  {
   "cell_type": "code",
   "execution_count": null,
   "id": "38753924",
   "metadata": {},
   "outputs": [],
   "source": []
  }
 ],
 "metadata": {
  "kernelspec": {
   "display_name": "Python 3",
   "language": "python",
   "name": "python3"
  },
  "language_info": {
   "codemirror_mode": {
    "name": "ipython",
    "version": 3
   },
   "file_extension": ".py",
   "mimetype": "text/x-python",
   "name": "python",
   "nbconvert_exporter": "python",
   "pygments_lexer": "ipython3",
   "version": "3.8.8"
  }
 },
 "nbformat": 4,
 "nbformat_minor": 5
}
